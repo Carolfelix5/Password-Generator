{
 "cells": [
  {
   "cell_type": "code",
   "execution_count": 29,
   "id": "c31514ce-10af-4b71-833a-391610a70b37",
   "metadata": {},
   "outputs": [
    {
     "name": "stdout",
     "output_type": "stream",
     "text": [
      "Welcome to the Password Generator!!\n"
     ]
    },
    {
     "name": "stdin",
     "output_type": "stream",
     "text": [
      "How many letters do you prefer? \n",
      " 4\n",
      "How many numbers do you prefer? \n",
      " 3\n",
      "How many symbols do you prefer? \n",
      " 2\n"
     ]
    },
    {
     "name": "stdout",
     "output_type": "stream",
     "text": [
      "['r', 'H', 'l', 'c', '8', '8', '5', ')', '%']\n",
      "['c', 'H', '8', '5', 'l', ')', '8', 'r', '%']\n",
      " cH85l)8r%\n"
     ]
    }
   ],
   "source": [
    "import random\n",
    "\n",
    "letters = [\"a\",\"b\",\"c\",\"d\",\"e\",\"f\",\"g\",\"h\",\"i\",\"j\",\"h\",\"k\",\"l\",\"m\",\"n\",\"o\",\"p\",\"q\",\"r\",\"s\",\"t\",\"u\",\"v\",\"w\",\"x\",\"y\",\"z\",\"A\",\"B\",\"C\",\"D\",\"E\",\"F\",\"G\",\"H\",\"I\",\"J\",\"K\",\"L\",\"M\",\"N\",\"O\",\"P\",\"Q\",\"R\",\"S\",\"T\",\"U\",\"V\",\"W\",\"X\",\"Y\",\"Z\"]\n",
    "\n",
    "numbers = ['0','1','2','3','4','5','6','7','8','9']\n",
    "\n",
    "symbols = ['!','@','#','%','&','*','(',')','+']\n",
    "\n",
    "print(\"Welcome to the Password Generator!!\")\n",
    "n_letters = int(input(\"How many letters do you prefer? \\n\"))\n",
    "n_numbers = int(input(\"How many numbers do you prefer? \\n\"))\n",
    "n_symbols = int(input(\"How many symbols do you prefer? \\n\"))\n",
    "\n",
    "password_list = []\n",
    "for i in range(1,n_letters+1):\n",
    "    char = random.choice(letters)\n",
    "    password_list += char\n",
    "\n",
    "for i in range(1,n_numbers+1):\n",
    "    char = random.choice(numbers)\n",
    "    password_list += char\n",
    "\n",
    "for i in range(1,n_symbols+1):\n",
    "    char = random.choice(symbols)\n",
    "    password_list += char\n",
    "\n",
    "print(password_list)\n",
    "random.shuffle(password_list)\n",
    "print(password_list)\n",
    "password = \" \"\n",
    "for char in password_list:\n",
    "    password += char\n",
    "\n",
    "print(password)\n"
   ]
  },
  {
   "cell_type": "code",
   "execution_count": null,
   "id": "d2860925-32aa-449c-84c7-15da395fe8a2",
   "metadata": {},
   "outputs": [],
   "source": []
  }
 ],
 "metadata": {
  "kernelspec": {
   "display_name": "Python 3 (ipykernel)",
   "language": "python",
   "name": "python3"
  },
  "language_info": {
   "codemirror_mode": {
    "name": "ipython",
    "version": 3
   },
   "file_extension": ".py",
   "mimetype": "text/x-python",
   "name": "python",
   "nbconvert_exporter": "python",
   "pygments_lexer": "ipython3",
   "version": "3.12.4"
  }
 },
 "nbformat": 4,
 "nbformat_minor": 5
}
